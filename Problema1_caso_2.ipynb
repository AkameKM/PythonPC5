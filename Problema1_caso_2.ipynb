{
 "cells": [
  {
   "cell_type": "code",
   "execution_count": 1,
   "metadata": {},
   "outputs": [],
   "source": [
    "import pandas as pd \n",
    "df_airbnb = pd.read_csv(\"./data/airbnb.csv\")"
   ]
  },
  {
   "cell_type": "code",
   "execution_count": 2,
   "metadata": {},
   "outputs": [
    {
     "data": {
      "text/html": [
       "<div>\n",
       "<style scoped>\n",
       "    .dataframe tbody tr th:only-of-type {\n",
       "        vertical-align: middle;\n",
       "    }\n",
       "\n",
       "    .dataframe tbody tr th {\n",
       "        vertical-align: top;\n",
       "    }\n",
       "\n",
       "    .dataframe thead th {\n",
       "        text-align: right;\n",
       "    }\n",
       "</style>\n",
       "<table border=\"1\" class=\"dataframe\">\n",
       "  <thead>\n",
       "    <tr style=\"text-align: right;\">\n",
       "      <th></th>\n",
       "      <th>Unnamed: 0</th>\n",
       "      <th>room_id</th>\n",
       "      <th>host_id</th>\n",
       "      <th>room_type</th>\n",
       "      <th>neighborhood</th>\n",
       "      <th>reviews</th>\n",
       "      <th>overall_satisfaction</th>\n",
       "      <th>accommodates</th>\n",
       "      <th>bedrooms</th>\n",
       "      <th>price</th>\n",
       "    </tr>\n",
       "  </thead>\n",
       "  <tbody>\n",
       "    <tr>\n",
       "      <th>0</th>\n",
       "      <td>41</td>\n",
       "      <td>90387</td>\n",
       "      <td>490050</td>\n",
       "      <td>Private room</td>\n",
       "      <td>Santo António</td>\n",
       "      <td>204</td>\n",
       "      <td>5</td>\n",
       "      <td>2</td>\n",
       "      <td>1</td>\n",
       "      <td>46</td>\n",
       "    </tr>\n",
       "    <tr>\n",
       "      <th>1</th>\n",
       "      <td>48</td>\n",
       "      <td>97503</td>\n",
       "      <td>515924</td>\n",
       "      <td>Private room</td>\n",
       "      <td>Santo António</td>\n",
       "      <td>39</td>\n",
       "      <td>4</td>\n",
       "      <td>2</td>\n",
       "      <td>1</td>\n",
       "      <td>26</td>\n",
       "    </tr>\n",
       "  </tbody>\n",
       "</table>\n",
       "</div>"
      ],
      "text/plain": [
       "   Unnamed: 0  room_id  host_id     room_type   neighborhood  reviews  \\\n",
       "0          41    90387   490050  Private room  Santo António      204   \n",
       "1          48    97503   515924  Private room  Santo António       39   \n",
       "\n",
       "   overall_satisfaction  accommodates  bedrooms  price  \n",
       "0                     5             2         1     46  \n",
       "1                     4             2         1     26  "
      ]
     },
     "execution_count": 2,
     "metadata": {},
     "output_type": "execute_result"
    }
   ],
   "source": [
    "df_propiedad_roberto_clara = df_airbnb[df_airbnb['room_id'].isin([97503, 90387])]\n",
    "df_propiedad_roberto_clara.to_excel(\"roberto.xlsx\")\n",
    "df_propiedad_roberto_clara = pd.read_excel('/workspaces/PythonPC5/roberto.xlsx')\n",
    "df_propiedad_roberto_clara "
   ]
  }
 ],
 "metadata": {
  "kernelspec": {
   "display_name": "Python 3",
   "language": "python",
   "name": "python3"
  },
  "language_info": {
   "codemirror_mode": {
    "name": "ipython",
    "version": 3
   },
   "file_extension": ".py",
   "mimetype": "text/x-python",
   "name": "python",
   "nbconvert_exporter": "python",
   "pygments_lexer": "ipython3",
   "version": "3.12.1"
  }
 },
 "nbformat": 4,
 "nbformat_minor": 2
}
