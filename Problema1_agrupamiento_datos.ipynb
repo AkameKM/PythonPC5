{
 "cells": [
  {
   "cell_type": "code",
   "execution_count": 1,
   "metadata": {},
   "outputs": [],
   "source": [
    "import pandas as pd \n",
    "df_airbnb = pd.read_csv(\"./data/airbnb.csv\")"
   ]
  },
  {
   "cell_type": "code",
   "execution_count": 2,
   "metadata": {},
   "outputs": [
    {
     "name": "stdout",
     "output_type": "stream",
     "text": [
      "Agrupación de datos por satisfación\n",
      "                      room_id       price  reviews\n",
      "overall_satisfaction                              \n",
      "0.0                      3835  115.361669     2167\n",
      "1.5                         1   93.000000        3\n",
      "2.0                         3   44.333333       12\n",
      "2.5                        14   50.928571       66\n",
      "3.0                        41   55.341463      262\n",
      "3.5                       154   54.318182     1763\n",
      "4.0                       842   62.034442    22860\n",
      "4.5                      4605   70.248643   209430\n",
      "5.0                      3727   84.638315   148496\n"
     ]
    }
   ],
   "source": [
    "#Agrupación de datos por satisfacion, precio y cantidad de propiedades\n",
    "agrupamiento_satisfaccion_clientes = df_airbnb.groupby('overall_satisfaction').agg({\n",
    "    'room_id': 'count',        \n",
    "    'price': 'mean',           \n",
    "    'reviews': 'sum'          \n",
    "})\n",
    "\n",
    "agrupamiento_satisfaccion_clientes = agrupamiento_satisfaccion_clientes.sort_values(by='overall_satisfaction')\n",
    "\n",
    "print(\"Agrupación de datos por satisfación\")\n",
    "print(agrupamiento_satisfaccion_clientes)"
   ]
  },
  {
   "cell_type": "code",
   "execution_count": 3,
   "metadata": {},
   "outputs": [
    {
     "name": "stdout",
     "output_type": "stream",
     "text": [
      "Cantidad propiedades de cada anfitrión:\n",
      "      ID_Anfitrion  Cantidad_propiedades\n",
      "826        3953109                   171\n",
      "370        1756107                    98\n",
      "5718     106149355                    86\n",
      "450        2174752                    68\n",
      "420        2010790                    63\n",
      "327        1549585                    56\n",
      "2802      22192546                    51\n",
      "475        2372087                    50\n",
      "1811      11707167                    44\n"
     ]
    }
   ],
   "source": [
    "# Agrupación de datos por propiedades del anfitrion\n",
    "propiedades_por_anfitrion = df_airbnb.groupby('host_id')['room_id'].count().reset_index()\n",
    "propiedades_por_anfitrion.columns = ['ID_Anfitrion', 'Cantidad_propiedades']\n",
    "\n",
    "print(\"Cantidad propiedades de cada anfitrión:\")\n",
    "print(propiedades_por_anfitrion.sort_values(by='Cantidad_propiedades', ascending=False).head(9))\n"
   ]
  }
 ],
 "metadata": {
  "kernelspec": {
   "display_name": "Python 3",
   "language": "python",
   "name": "python3"
  },
  "language_info": {
   "codemirror_mode": {
    "name": "ipython",
    "version": 3
   },
   "file_extension": ".py",
   "mimetype": "text/x-python",
   "name": "python",
   "nbconvert_exporter": "python",
   "pygments_lexer": "ipython3",
   "version": "3.12.1"
  }
 },
 "nbformat": 4,
 "nbformat_minor": 2
}
