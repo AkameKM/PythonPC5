{
 "cells": [
  {
   "cell_type": "markdown",
   "metadata": {},
   "source": [
    "# Ejercicio1 - Busqueda de Alojamiento en Airbnb (Jupyter).\n",
    "\n",
    "Supongamos que somos un agente de [Airbnb](http://www.airbnb.com) localizado en Lisboa, y tenemos que atender peticiones de varios clientes. Tenemos un archivo llamado `airbnb.csv` (en la carpeta data) donde tenemos información de todos los alojamientos de Airbnb en Lisboa."
   ]
  },
  {
   "cell_type": "code",
   "execution_count": 2,
   "metadata": {},
   "outputs": [],
   "source": [
    "import pandas as pd \n",
    "df_airbnb = pd.read_csv(\"./data/airbnb.csv\")"
   ]
  },
  {
   "cell_type": "code",
   "execution_count": 3,
   "metadata": {},
   "outputs": [
    {
     "data": {
      "text/html": [
       "<div>\n",
       "<style scoped>\n",
       "    .dataframe tbody tr th:only-of-type {\n",
       "        vertical-align: middle;\n",
       "    }\n",
       "\n",
       "    .dataframe tbody tr th {\n",
       "        vertical-align: top;\n",
       "    }\n",
       "\n",
       "    .dataframe thead th {\n",
       "        text-align: right;\n",
       "    }\n",
       "</style>\n",
       "<table border=\"1\" class=\"dataframe\">\n",
       "  <thead>\n",
       "    <tr style=\"text-align: right;\">\n",
       "      <th></th>\n",
       "      <th>room_id</th>\n",
       "      <th>host_id</th>\n",
       "      <th>room_type</th>\n",
       "      <th>neighborhood</th>\n",
       "      <th>reviews</th>\n",
       "      <th>overall_satisfaction</th>\n",
       "      <th>accommodates</th>\n",
       "      <th>bedrooms</th>\n",
       "      <th>price</th>\n",
       "    </tr>\n",
       "  </thead>\n",
       "  <tbody>\n",
       "    <tr>\n",
       "      <th>0</th>\n",
       "      <td>6499</td>\n",
       "      <td>14455</td>\n",
       "      <td>Entire home/apt</td>\n",
       "      <td>Belém</td>\n",
       "      <td>8</td>\n",
       "      <td>5.0</td>\n",
       "      <td>2</td>\n",
       "      <td>1.0</td>\n",
       "      <td>57.0</td>\n",
       "    </tr>\n",
       "    <tr>\n",
       "      <th>1</th>\n",
       "      <td>17031</td>\n",
       "      <td>66015</td>\n",
       "      <td>Entire home/apt</td>\n",
       "      <td>Alvalade</td>\n",
       "      <td>0</td>\n",
       "      <td>0.0</td>\n",
       "      <td>2</td>\n",
       "      <td>1.0</td>\n",
       "      <td>46.0</td>\n",
       "    </tr>\n",
       "    <tr>\n",
       "      <th>2</th>\n",
       "      <td>25659</td>\n",
       "      <td>107347</td>\n",
       "      <td>Entire home/apt</td>\n",
       "      <td>Santa Maria Maior</td>\n",
       "      <td>63</td>\n",
       "      <td>5.0</td>\n",
       "      <td>3</td>\n",
       "      <td>1.0</td>\n",
       "      <td>69.0</td>\n",
       "    </tr>\n",
       "    <tr>\n",
       "      <th>3</th>\n",
       "      <td>29248</td>\n",
       "      <td>125768</td>\n",
       "      <td>Entire home/apt</td>\n",
       "      <td>Santa Maria Maior</td>\n",
       "      <td>225</td>\n",
       "      <td>4.5</td>\n",
       "      <td>4</td>\n",
       "      <td>1.0</td>\n",
       "      <td>58.0</td>\n",
       "    </tr>\n",
       "    <tr>\n",
       "      <th>4</th>\n",
       "      <td>29396</td>\n",
       "      <td>126415</td>\n",
       "      <td>Entire home/apt</td>\n",
       "      <td>Santa Maria Maior</td>\n",
       "      <td>132</td>\n",
       "      <td>5.0</td>\n",
       "      <td>4</td>\n",
       "      <td>1.0</td>\n",
       "      <td>67.0</td>\n",
       "    </tr>\n",
       "  </tbody>\n",
       "</table>\n",
       "</div>"
      ],
      "text/plain": [
       "   room_id  host_id        room_type       neighborhood  reviews  \\\n",
       "0     6499    14455  Entire home/apt              Belém        8   \n",
       "1    17031    66015  Entire home/apt           Alvalade        0   \n",
       "2    25659   107347  Entire home/apt  Santa Maria Maior       63   \n",
       "3    29248   125768  Entire home/apt  Santa Maria Maior      225   \n",
       "4    29396   126415  Entire home/apt  Santa Maria Maior      132   \n",
       "\n",
       "   overall_satisfaction  accommodates  bedrooms  price  \n",
       "0                   5.0             2       1.0   57.0  \n",
       "1                   0.0             2       1.0   46.0  \n",
       "2                   5.0             3       1.0   69.0  \n",
       "3                   4.5             4       1.0   58.0  \n",
       "4                   5.0             4       1.0   67.0  "
      ]
     },
     "execution_count": 3,
     "metadata": {},
     "output_type": "execute_result"
    }
   ],
   "source": [
    "df_airbnb.head()"
   ]
  },
  {
   "cell_type": "markdown",
   "metadata": {},
   "source": [
    "En concreto el dataset tiene las siguientes variables:\n",
    "- room_id: el identificador de la propiedad\n",
    "- host_id: el identificador del dueño de la propiedad\n",
    "- room_type: tipo de propiedad (vivienda completa/(habitacion para compartir/habitación privada)\n",
    "- neighborhood: el barrio de Lisboa\n",
    "- reviews: El numero de opiniones\n",
    "- overall_satisfaction: Puntuacion media del apartamento\n",
    "- accommodates: El numero de personas que se pueden alojar en la propiedad\n",
    "- bedrooms: El número de habitaciones\n",
    "- price: El precio (en euros) por noche"
   ]
  },
  {
   "cell_type": "markdown",
   "metadata": {},
   "source": [
    "## Ejercicios"
   ]
  },
  {
   "cell_type": "markdown",
   "metadata": {},
   "source": [
    "### 1. Realizar Análisis Exploratorio de los datos"
   ]
  },
  {
   "cell_type": "markdown",
   "metadata": {},
   "source": [
    "Sobre este apartado deberá explorar los datos como se vio en clase .. aplicar métodos shape, columns, etc"
   ]
  },
  {
   "cell_type": "code",
   "execution_count": 4,
   "metadata": {},
   "outputs": [
    {
     "name": "stdout",
     "output_type": "stream",
     "text": [
      "Cantidad de Filas y Colummnas: (13232, 9)\n",
      "Nombre de las columnas: \n",
      "Index(['room_id', 'host_id', 'room_type', 'neighborhood', 'reviews',\n",
      "       'overall_satisfaction', 'accommodates', 'bedrooms', 'price'],\n",
      "      dtype='object')\n",
      "Tipos de datos de cada columna: \n",
      "room_id                   int64\n",
      "host_id                   int64\n",
      "room_type                object\n",
      "neighborhood             object\n",
      "reviews                   int64\n",
      "overall_satisfaction    float64\n",
      "accommodates              int64\n",
      "bedrooms                float64\n",
      "price                   float64\n",
      "dtype: object\n",
      "<class 'pandas.core.frame.DataFrame'>\n",
      "RangeIndex: 13232 entries, 0 to 13231\n",
      "Data columns (total 9 columns):\n",
      " #   Column                Non-Null Count  Dtype  \n",
      "---  ------                --------------  -----  \n",
      " 0   room_id               13232 non-null  int64  \n",
      " 1   host_id               13232 non-null  int64  \n",
      " 2   room_type             13232 non-null  object \n",
      " 3   neighborhood          13232 non-null  object \n",
      " 4   reviews               13232 non-null  int64  \n",
      " 5   overall_satisfaction  13222 non-null  float64\n",
      " 6   accommodates          13232 non-null  int64  \n",
      " 7   bedrooms              13232 non-null  float64\n",
      " 8   price                 13232 non-null  float64\n",
      "dtypes: float64(3), int64(4), object(2)\n",
      "memory usage: 930.5+ KB\n",
      "Información general: \n",
      "None\n",
      "Descripción: \n",
      "            room_id       host_id       reviews  overall_satisfaction  \\\n",
      "count  1.323200e+04  1.323200e+04  13232.000000          13222.000000   \n",
      "mean   1.055081e+07  3.616444e+07     29.130063              3.284677   \n",
      "std    6.069884e+06  3.706975e+07     42.802762              2.123236   \n",
      "min    6.499000e+03  1.445500e+04      0.000000              0.000000   \n",
      "25%    5.054848e+06  6.197930e+06      2.000000              0.000000   \n",
      "50%    1.166226e+07  2.207571e+07     11.000000              4.500000   \n",
      "75%    1.609631e+07  5.546697e+07     39.000000              5.000000   \n",
      "max    1.940072e+07  1.359156e+08    438.000000              5.000000   \n",
      "\n",
      "       accommodates      bedrooms         price  \n",
      "count  13232.000000  13232.000000  13232.000000  \n",
      "mean       3.917775      1.549501     86.592352  \n",
      "std        2.293757      1.062821    135.208926  \n",
      "min        1.000000      0.000000     10.000000  \n",
      "25%        2.000000      1.000000     45.000000  \n",
      "50%        4.000000      1.000000     64.000000  \n",
      "75%        5.000000      2.000000     93.000000  \n",
      "max       16.000000     10.000000   7496.000000  \n"
     ]
    }
   ],
   "source": [
    "\n",
    "print(f\"Cantidad de Filas y Colummnas: { df_airbnb.shape }\")\n",
    "print(f\"Nombre de las columnas: \\n{df_airbnb.columns}\")\n",
    "print(f\"Tipos de datos de cada columna: \\n{df_airbnb.dtypes}\")\n",
    "print(f\"Información general: \\n{df_airbnb.info()}\")\n",
    "print(f\"Descripción: \\n{df_airbnb.describe()}\")\n"
   ]
  },
  {
   "cell_type": "markdown",
   "metadata": {},
   "source": [
    "### 2. Realizar Filtrados a Datos\n",
    "\n",
    "- Realizar filtrados, según sea el caso. \n",
    "\n",
    "\n",
    "Nota: \n",
    "Para obtener el top de un conjunto de datos debemos aplicar un head(n) además de ordenar los datos"
   ]
  },
  {
   "cell_type": "markdown",
   "metadata": {},
   "source": [
    "#### Caso 1.\n",
    "\n",
    "Alicia va a ir a Lisboa durante una semana con su marido y sus 2 hijos. Están buscando un apartamento con habitaciones separadas para los padres y los hijos. No les importa donde alojarse o el precio, simplemente quieren tener una experiencia agradable. Esto significa que solo aceptan lugares con más de 10 críticas con una puntuación mayor de 4. Cuando seleccionemos habitaciones para Alicia, tenemos que asegurarnos de ordenar las habitaciones de mejor a peor puntuación. Para aquellas habitaciones que tienen la misma puntuación, debemos mostrar antes aquellas con más críticas. Debemos darle 3 alternativas."
   ]
  },
  {
   "cell_type": "code",
   "execution_count": 10,
   "metadata": {},
   "outputs": [
    {
     "data": {
      "text/html": [
       "<div>\n",
       "<style scoped>\n",
       "    .dataframe tbody tr th:only-of-type {\n",
       "        vertical-align: middle;\n",
       "    }\n",
       "\n",
       "    .dataframe tbody tr th {\n",
       "        vertical-align: top;\n",
       "    }\n",
       "\n",
       "    .dataframe thead th {\n",
       "        text-align: right;\n",
       "    }\n",
       "</style>\n",
       "<table border=\"1\" class=\"dataframe\">\n",
       "  <thead>\n",
       "    <tr style=\"text-align: right;\">\n",
       "      <th></th>\n",
       "      <th>room_id</th>\n",
       "      <th>host_id</th>\n",
       "      <th>room_type</th>\n",
       "      <th>neighborhood</th>\n",
       "      <th>reviews</th>\n",
       "      <th>overall_satisfaction</th>\n",
       "      <th>accommodates</th>\n",
       "      <th>bedrooms</th>\n",
       "      <th>price</th>\n",
       "    </tr>\n",
       "  </thead>\n",
       "  <tbody>\n",
       "    <tr>\n",
       "      <th>120</th>\n",
       "      <td>176153</td>\n",
       "      <td>842219</td>\n",
       "      <td>Entire home/apt</td>\n",
       "      <td>Misericórdia</td>\n",
       "      <td>438</td>\n",
       "      <td>5.0</td>\n",
       "      <td>4</td>\n",
       "      <td>2.0</td>\n",
       "      <td>102.0</td>\n",
       "    </tr>\n",
       "    <tr>\n",
       "      <th>931</th>\n",
       "      <td>1085634</td>\n",
       "      <td>5968047</td>\n",
       "      <td>Entire home/apt</td>\n",
       "      <td>Misericórdia</td>\n",
       "      <td>379</td>\n",
       "      <td>5.0</td>\n",
       "      <td>2</td>\n",
       "      <td>1.0</td>\n",
       "      <td>52.0</td>\n",
       "    </tr>\n",
       "    <tr>\n",
       "      <th>212</th>\n",
       "      <td>299321</td>\n",
       "      <td>199452</td>\n",
       "      <td>Entire home/apt</td>\n",
       "      <td>Santo António</td>\n",
       "      <td>337</td>\n",
       "      <td>5.0</td>\n",
       "      <td>2</td>\n",
       "      <td>1.0</td>\n",
       "      <td>87.0</td>\n",
       "    </tr>\n",
       "  </tbody>\n",
       "</table>\n",
       "</div>"
      ],
      "text/plain": [
       "     room_id  host_id        room_type   neighborhood  reviews  \\\n",
       "120   176153   842219  Entire home/apt   Misericórdia      438   \n",
       "931  1085634  5968047  Entire home/apt   Misericórdia      379   \n",
       "212   299321   199452  Entire home/apt  Santo António      337   \n",
       "\n",
       "     overall_satisfaction  accommodates  bedrooms  price  \n",
       "120                   5.0             4       2.0  102.0  \n",
       "931                   5.0             2       1.0   52.0  \n",
       "212                   5.0             2       1.0   87.0  "
      ]
     },
     "execution_count": 10,
     "metadata": {},
     "output_type": "execute_result"
    }
   ],
   "source": [
    "df_filter = df_airbnb[(df_airbnb['reviews'] > 10) & (df_airbnb['overall_satisfaction'] > 4)]\n",
    "df_filter = df_filter.sort_values(by=['overall_satisfaction', 'reviews'], ascending=[False, False])\n",
    "opciones_para_alicia = df_filter.head(3)\n",
    "opciones_para_alicia"
   ]
  },
  {
   "cell_type": "markdown",
   "metadata": {},
   "source": [
    "#### Caso 2\n",
    "\n",
    "Roberto es un casero que tiene una casa en Airbnb. De vez en cuando nos llama preguntando sobre cuales son las críticas de su alojamiento. Hoy está particularmente enfadado, ya que su hermana Clara ha puesto una casa en Airbnb y Roberto quiere asegurarse de que su casa tiene más críticas que las de Clara. Tenemos que crear un dataframe con las propiedades de ambos. Las id de las casas de Roberto y Clara son 97503 y 90387  respectivamente. Finalmente guardamos este dataframe como excel llamado \"roberto.xls"
   ]
  },
  {
   "cell_type": "code",
   "execution_count": 23,
   "metadata": {
    "tags": []
   },
   "outputs": [
    {
     "data": {
      "text/html": [
       "<div>\n",
       "<style scoped>\n",
       "    .dataframe tbody tr th:only-of-type {\n",
       "        vertical-align: middle;\n",
       "    }\n",
       "\n",
       "    .dataframe tbody tr th {\n",
       "        vertical-align: top;\n",
       "    }\n",
       "\n",
       "    .dataframe thead th {\n",
       "        text-align: right;\n",
       "    }\n",
       "</style>\n",
       "<table border=\"1\" class=\"dataframe\">\n",
       "  <thead>\n",
       "    <tr style=\"text-align: right;\">\n",
       "      <th></th>\n",
       "      <th>Unnamed: 0</th>\n",
       "      <th>room_id</th>\n",
       "      <th>host_id</th>\n",
       "      <th>room_type</th>\n",
       "      <th>neighborhood</th>\n",
       "      <th>reviews</th>\n",
       "      <th>overall_satisfaction</th>\n",
       "      <th>accommodates</th>\n",
       "      <th>bedrooms</th>\n",
       "      <th>price</th>\n",
       "    </tr>\n",
       "  </thead>\n",
       "  <tbody>\n",
       "    <tr>\n",
       "      <th>0</th>\n",
       "      <td>41</td>\n",
       "      <td>90387</td>\n",
       "      <td>490050</td>\n",
       "      <td>Private room</td>\n",
       "      <td>Santo António</td>\n",
       "      <td>204</td>\n",
       "      <td>5</td>\n",
       "      <td>2</td>\n",
       "      <td>1</td>\n",
       "      <td>46</td>\n",
       "    </tr>\n",
       "    <tr>\n",
       "      <th>1</th>\n",
       "      <td>48</td>\n",
       "      <td>97503</td>\n",
       "      <td>515924</td>\n",
       "      <td>Private room</td>\n",
       "      <td>Santo António</td>\n",
       "      <td>39</td>\n",
       "      <td>4</td>\n",
       "      <td>2</td>\n",
       "      <td>1</td>\n",
       "      <td>26</td>\n",
       "    </tr>\n",
       "  </tbody>\n",
       "</table>\n",
       "</div>"
      ],
      "text/plain": [
       "   Unnamed: 0  room_id  host_id     room_type   neighborhood  reviews  \\\n",
       "0          41    90387   490050  Private room  Santo António      204   \n",
       "1          48    97503   515924  Private room  Santo António       39   \n",
       "\n",
       "   overall_satisfaction  accommodates  bedrooms  price  \n",
       "0                     5             2         1     46  \n",
       "1                     4             2         1     26  "
      ]
     },
     "execution_count": 23,
     "metadata": {},
     "output_type": "execute_result"
    }
   ],
   "source": [
    "df_propiedad_roberto_clara = df_airbnb[df_airbnb['room_id'].isin([97503, 90387])]\n",
    "df_propiedad_roberto_clara.to_excel(\"roberto.xlsx\")\n",
    "df_propiedad_roberto_clara = pd.read_excel('/workspaces/PythonPC5/roberto.xlsx')\n",
    "df_propiedad_roberto_clara \n",
    "\n"
   ]
  },
  {
   "cell_type": "markdown",
   "metadata": {},
   "source": [
    "\n",
    "#### Caso 3\n",
    "\n",
    "Diana va a Lisboa a pasar 3 noches y quiere conocer a gente nueva. Tiene un presupuesto de 50€ para su alojamiento. Debemos buscarle las 10 propiedades más baratas, dandole preferencia a aquellas que sean habitaciones compartidas *(room_type == Shared room)*, y para aquellas viviendas compartidas debemos elegir aquellas con mejor puntuación."
   ]
  },
  {
   "cell_type": "code",
   "execution_count": 32,
   "metadata": {
    "tags": []
   },
   "outputs": [
    {
     "name": "stdout",
     "output_type": "stream",
     "text": [
      "Top 10 Propiedades compartidas:\n",
      "        room_id    host_id    room_type    neighborhood  reviews  \\\n",
      "9065   14933182   91501272  Shared room   Santo António        5   \n",
      "6056   10397682   32344156  Shared room    Misericórdia       15   \n",
      "7060   12299998   66077974  Shared room         Arroios       49   \n",
      "7066   12305540   66077974  Shared room         Arroios       40   \n",
      "8918   14719962   40574313  Shared room  Avenidas Novas        4   \n",
      "7034   12268067   66077974  Shared room         Arroios       96   \n",
      "9964   16150682   58899339  Shared room  Avenidas Novas        4   \n",
      "10723  17096560  107813252  Shared room         Areeiro        5   \n",
      "6459   11427995   32344156  Shared room    Misericórdia       21   \n",
      "11058  17497074   25913998  Shared room         Arroios        7   \n",
      "\n",
      "       overall_satisfaction  accommodates  bedrooms  price  \n",
      "9065                    5.0             8       1.0   11.0  \n",
      "6056                    5.0             8       1.0   13.0  \n",
      "7060                    5.0             1       1.0   13.0  \n",
      "7066                    5.0             1       1.0   13.0  \n",
      "8918                    5.0             4       1.0   13.0  \n",
      "7034                    5.0             1       1.0   16.0  \n",
      "9964                    5.0             9       1.0   16.0  \n",
      "10723                   5.0             1       1.0   16.0  \n",
      "6459                    5.0             8       1.0   18.0  \n",
      "11058                   5.0             1       1.0   18.0  \n"
     ]
    }
   ],
   "source": [
    "\n",
    "df_filter = df_airbnb[df_airbnb['price'] <= 50]\n",
    "\n",
    "df_habitacion_compartida = df_filter[df_filter['room_type'] == 'Shared room']\n",
    "\n",
    "if not df_habitacion_compartida.empty:\n",
    "    df_habitacion_compartida = df_habitacion_compartida.sort_values(by=['overall_satisfaction', 'price'], ascending=[False, True])\n",
    "    top_habitaciones_compartidas = df_habitacion_compartida.head(10)\n",
    "else:\n",
    "    top_habitaciones_compartidas = pd.DataFrame()\n",
    "\n",
    "print(f\"Top 10 Propiedades compartidas:\\n{top_habitaciones_compartidas}\")\n"
   ]
  },
  {
   "cell_type": "markdown",
   "metadata": {},
   "source": [
    "### 3. Realizar Agrupamientos de Datos\n",
    "\n",
    "\n",
    "- Según su criterio, aplicar 2 tipos de agrupamientos a los datos brindados. \n",
    "- **Opcional**, averiguar como realizar el gráfico de los 2 agrupamientos de los datos realizados. Se podría emplear librerias como mathplot y searbon ... ayudarse de chatgtp, etc\n"
   ]
  },
  {
   "cell_type": "code",
   "execution_count": 46,
   "metadata": {},
   "outputs": [
    {
     "name": "stdout",
     "output_type": "stream",
     "text": [
      "Agrupación de datos por satisfación\n",
      "                      room_id       price  reviews\n",
      "overall_satisfaction                              \n",
      "0.0                      3835  115.361669     2167\n",
      "1.5                         1   93.000000        3\n",
      "2.0                         3   44.333333       12\n",
      "2.5                        14   50.928571       66\n",
      "3.0                        41   55.341463      262\n",
      "3.5                       154   54.318182     1763\n",
      "4.0                       842   62.034442    22860\n",
      "4.5                      4605   70.248643   209430\n",
      "5.0                      3727   84.638315   148496\n"
     ]
    }
   ],
   "source": [
    "#Agrupación de datos por satisfacion, precio y cantidad de propiedades\n",
    "agrupamiento_satisfaccion_clientes = df_airbnb.groupby('overall_satisfaction').agg({\n",
    "    'room_id': 'count',        \n",
    "    'price': 'mean',           \n",
    "    'reviews': 'sum'          \n",
    "})\n",
    "\n",
    "agrupamiento_satisfaccion_clientes = agrupamiento_satisfaccion_clientes.sort_values(by='overall_satisfaction')\n",
    "\n",
    "print(\"Agrupación de datos por satisfación\")\n",
    "print(agrupamiento_satisfaccion_clientes)\n"
   ]
  },
  {
   "cell_type": "code",
   "execution_count": 58,
   "metadata": {},
   "outputs": [
    {
     "name": "stdout",
     "output_type": "stream",
     "text": [
      "Cantidad propiedades de cada anfitrión:\n",
      "      ID_Anfitrion  Cantidad_propiedades\n",
      "826        3953109                   171\n",
      "370        1756107                    98\n",
      "5718     106149355                    86\n",
      "450        2174752                    68\n",
      "420        2010790                    63\n",
      "327        1549585                    56\n",
      "2802      22192546                    51\n",
      "475        2372087                    50\n",
      "1811      11707167                    44\n"
     ]
    }
   ],
   "source": [
    "# Agrupación de datos por propiedades del anfitrion\n",
    "propiedades_por_anfitrion = df_airbnb.groupby('host_id')['room_id'].count().reset_index()\n",
    "propiedades_por_anfitrion.columns = ['ID_Anfitrion', 'Cantidad_propiedades']\n",
    "\n",
    "print(\"Cantidad propiedades de cada anfitrión:\")\n",
    "print(propiedades_por_anfitrion.sort_values(by='Cantidad_propiedades', ascending=False).head(9))\n"
   ]
  }
 ],
 "metadata": {
  "kernelspec": {
   "display_name": "Python 3",
   "language": "python",
   "name": "python3"
  },
  "language_info": {
   "codemirror_mode": {
    "name": "ipython",
    "version": 3
   },
   "file_extension": ".py",
   "mimetype": "text/x-python",
   "name": "python",
   "nbconvert_exporter": "python",
   "pygments_lexer": "ipython3",
   "version": "3.12.1"
  }
 },
 "nbformat": 4,
 "nbformat_minor": 4
}
