{
 "cells": [
  {
   "cell_type": "code",
   "execution_count": 1,
   "metadata": {},
   "outputs": [],
   "source": [
    "import pandas as pd\n",
    "df_airbnb = pd.read_csv(\"./data/airbnb.csv\")"
   ]
  },
  {
   "cell_type": "code",
   "execution_count": 2,
   "metadata": {},
   "outputs": [
    {
     "data": {
      "text/html": [
       "<div>\n",
       "<style scoped>\n",
       "    .dataframe tbody tr th:only-of-type {\n",
       "        vertical-align: middle;\n",
       "    }\n",
       "\n",
       "    .dataframe tbody tr th {\n",
       "        vertical-align: top;\n",
       "    }\n",
       "\n",
       "    .dataframe thead th {\n",
       "        text-align: right;\n",
       "    }\n",
       "</style>\n",
       "<table border=\"1\" class=\"dataframe\">\n",
       "  <thead>\n",
       "    <tr style=\"text-align: right;\">\n",
       "      <th></th>\n",
       "      <th>room_id</th>\n",
       "      <th>host_id</th>\n",
       "      <th>room_type</th>\n",
       "      <th>neighborhood</th>\n",
       "      <th>reviews</th>\n",
       "      <th>overall_satisfaction</th>\n",
       "      <th>accommodates</th>\n",
       "      <th>bedrooms</th>\n",
       "      <th>price</th>\n",
       "    </tr>\n",
       "  </thead>\n",
       "  <tbody>\n",
       "    <tr>\n",
       "      <th>0</th>\n",
       "      <td>6499</td>\n",
       "      <td>14455</td>\n",
       "      <td>Entire home/apt</td>\n",
       "      <td>Belém</td>\n",
       "      <td>8</td>\n",
       "      <td>5.0</td>\n",
       "      <td>2</td>\n",
       "      <td>1.0</td>\n",
       "      <td>57.0</td>\n",
       "    </tr>\n",
       "    <tr>\n",
       "      <th>1</th>\n",
       "      <td>17031</td>\n",
       "      <td>66015</td>\n",
       "      <td>Entire home/apt</td>\n",
       "      <td>Alvalade</td>\n",
       "      <td>0</td>\n",
       "      <td>0.0</td>\n",
       "      <td>2</td>\n",
       "      <td>1.0</td>\n",
       "      <td>46.0</td>\n",
       "    </tr>\n",
       "    <tr>\n",
       "      <th>2</th>\n",
       "      <td>25659</td>\n",
       "      <td>107347</td>\n",
       "      <td>Entire home/apt</td>\n",
       "      <td>Santa Maria Maior</td>\n",
       "      <td>63</td>\n",
       "      <td>5.0</td>\n",
       "      <td>3</td>\n",
       "      <td>1.0</td>\n",
       "      <td>69.0</td>\n",
       "    </tr>\n",
       "    <tr>\n",
       "      <th>3</th>\n",
       "      <td>29248</td>\n",
       "      <td>125768</td>\n",
       "      <td>Entire home/apt</td>\n",
       "      <td>Santa Maria Maior</td>\n",
       "      <td>225</td>\n",
       "      <td>4.5</td>\n",
       "      <td>4</td>\n",
       "      <td>1.0</td>\n",
       "      <td>58.0</td>\n",
       "    </tr>\n",
       "    <tr>\n",
       "      <th>4</th>\n",
       "      <td>29396</td>\n",
       "      <td>126415</td>\n",
       "      <td>Entire home/apt</td>\n",
       "      <td>Santa Maria Maior</td>\n",
       "      <td>132</td>\n",
       "      <td>5.0</td>\n",
       "      <td>4</td>\n",
       "      <td>1.0</td>\n",
       "      <td>67.0</td>\n",
       "    </tr>\n",
       "  </tbody>\n",
       "</table>\n",
       "</div>"
      ],
      "text/plain": [
       "   room_id  host_id        room_type       neighborhood  reviews  \\\n",
       "0     6499    14455  Entire home/apt              Belém        8   \n",
       "1    17031    66015  Entire home/apt           Alvalade        0   \n",
       "2    25659   107347  Entire home/apt  Santa Maria Maior       63   \n",
       "3    29248   125768  Entire home/apt  Santa Maria Maior      225   \n",
       "4    29396   126415  Entire home/apt  Santa Maria Maior      132   \n",
       "\n",
       "   overall_satisfaction  accommodates  bedrooms  price  \n",
       "0                   5.0             2       1.0   57.0  \n",
       "1                   0.0             2       1.0   46.0  \n",
       "2                   5.0             3       1.0   69.0  \n",
       "3                   4.5             4       1.0   58.0  \n",
       "4                   5.0             4       1.0   67.0  "
      ]
     },
     "execution_count": 2,
     "metadata": {},
     "output_type": "execute_result"
    }
   ],
   "source": [
    "df_airbnb.head()"
   ]
  },
  {
   "cell_type": "code",
   "execution_count": 3,
   "metadata": {},
   "outputs": [
    {
     "name": "stdout",
     "output_type": "stream",
     "text": [
      "Cantidad de Filas y Colummnas: (13232, 9)\n"
     ]
    }
   ],
   "source": [
    "print(f\"Cantidad de Filas y Colummnas: { df_airbnb.shape }\")"
   ]
  },
  {
   "cell_type": "code",
   "execution_count": 4,
   "metadata": {},
   "outputs": [
    {
     "name": "stdout",
     "output_type": "stream",
     "text": [
      "Nombre de las columnas: \n",
      "Index(['room_id', 'host_id', 'room_type', 'neighborhood', 'reviews',\n",
      "       'overall_satisfaction', 'accommodates', 'bedrooms', 'price'],\n",
      "      dtype='object')\n"
     ]
    }
   ],
   "source": [
    "print(f\"Nombre de las columnas: \\n{df_airbnb.columns}\")"
   ]
  },
  {
   "cell_type": "code",
   "execution_count": 5,
   "metadata": {},
   "outputs": [
    {
     "name": "stdout",
     "output_type": "stream",
     "text": [
      "Tipos de datos de cada columna: \n",
      "room_id                   int64\n",
      "host_id                   int64\n",
      "room_type                object\n",
      "neighborhood             object\n",
      "reviews                   int64\n",
      "overall_satisfaction    float64\n",
      "accommodates              int64\n",
      "bedrooms                float64\n",
      "price                   float64\n",
      "dtype: object\n"
     ]
    }
   ],
   "source": [
    "print(f\"Tipos de datos de cada columna: \\n{df_airbnb.dtypes}\")"
   ]
  },
  {
   "cell_type": "code",
   "execution_count": 6,
   "metadata": {},
   "outputs": [
    {
     "name": "stdout",
     "output_type": "stream",
     "text": [
      "<class 'pandas.core.frame.DataFrame'>\n",
      "RangeIndex: 13232 entries, 0 to 13231\n",
      "Data columns (total 9 columns):\n",
      " #   Column                Non-Null Count  Dtype  \n",
      "---  ------                --------------  -----  \n",
      " 0   room_id               13232 non-null  int64  \n",
      " 1   host_id               13232 non-null  int64  \n",
      " 2   room_type             13232 non-null  object \n",
      " 3   neighborhood          13232 non-null  object \n",
      " 4   reviews               13232 non-null  int64  \n",
      " 5   overall_satisfaction  13222 non-null  float64\n",
      " 6   accommodates          13232 non-null  int64  \n",
      " 7   bedrooms              13232 non-null  float64\n",
      " 8   price                 13232 non-null  float64\n",
      "dtypes: float64(3), int64(4), object(2)\n",
      "memory usage: 930.5+ KB\n",
      "Información general: \n",
      "None\n"
     ]
    }
   ],
   "source": [
    "print(f\"Información general: \\n{df_airbnb.info()}\")"
   ]
  },
  {
   "cell_type": "code",
   "execution_count": 7,
   "metadata": {},
   "outputs": [
    {
     "name": "stdout",
     "output_type": "stream",
     "text": [
      "Descripción: \n",
      "            room_id       host_id       reviews  overall_satisfaction  \\\n",
      "count  1.323200e+04  1.323200e+04  13232.000000          13222.000000   \n",
      "mean   1.055081e+07  3.616444e+07     29.130063              3.284677   \n",
      "std    6.069884e+06  3.706975e+07     42.802762              2.123236   \n",
      "min    6.499000e+03  1.445500e+04      0.000000              0.000000   \n",
      "25%    5.054848e+06  6.197930e+06      2.000000              0.000000   \n",
      "50%    1.166226e+07  2.207571e+07     11.000000              4.500000   \n",
      "75%    1.609631e+07  5.546697e+07     39.000000              5.000000   \n",
      "max    1.940072e+07  1.359156e+08    438.000000              5.000000   \n",
      "\n",
      "       accommodates      bedrooms         price  \n",
      "count  13232.000000  13232.000000  13232.000000  \n",
      "mean       3.917775      1.549501     86.592352  \n",
      "std        2.293757      1.062821    135.208926  \n",
      "min        1.000000      0.000000     10.000000  \n",
      "25%        2.000000      1.000000     45.000000  \n",
      "50%        4.000000      1.000000     64.000000  \n",
      "75%        5.000000      2.000000     93.000000  \n",
      "max       16.000000     10.000000   7496.000000  \n"
     ]
    }
   ],
   "source": [
    "print(f\"Descripción: \\n{df_airbnb.describe()}\")"
   ]
  }
 ],
 "metadata": {
  "kernelspec": {
   "display_name": "Python 3",
   "language": "python",
   "name": "python3"
  },
  "language_info": {
   "codemirror_mode": {
    "name": "ipython",
    "version": 3
   },
   "file_extension": ".py",
   "mimetype": "text/x-python",
   "name": "python",
   "nbconvert_exporter": "python",
   "pygments_lexer": "ipython3",
   "version": "3.12.1"
  }
 },
 "nbformat": 4,
 "nbformat_minor": 2
}
